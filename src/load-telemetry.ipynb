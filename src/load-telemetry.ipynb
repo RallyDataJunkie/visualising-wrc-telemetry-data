{
  "cells": [
    {
      "cell_type": "code",
      "metadata": {},
      "source": [
        "library(knitr)\n",
        "library(tidyr)\n",
        "library(purrr)\n",
        "library(dplyr)\n",
        "library(sf)\n",
        "library(lubridate)\n",
        "library(ggplot2)\n",
        "library(kableExtra)\n",
        "\n",
        "knitr.duplicate.label = \"allow\"\n",
        "knitr::opts_chunk$set(fig.path = \"images/\")"
      ],
      "execution_count": null,
      "outputs": []
    },
    {
      "cell_type": "markdown",
      "metadata": {},
      "source": [
        "# Introducing WRC Telemetry\n",
        "\n",
        "Whilst a rally is in progress, a limited amount of telemetry is available from the live mapping facility. This comes in the form of GPS location data for each vehicle at a low sample rate. This data can be collected and used in real time to give us a means of identifying approximately where on a stage a driver might have lost time compared to another driver. Essentially, we can use the data to create effective split points every 200m or so along a rally stage, rather than every 5km. In addition, we can use the data to identify whether a car has stopped on a road section, and for how long.\n",
        "\n",
        "More detailed telemetry data can be found on the WRC+ website several hours after a stage has run. This is at a much higher sample rate and includes speed, RPM, throttle and brake data. This allows us to make basic comparisons of drivers' actual performance on a stage at the end of each day of running.\n",
        "\n",
        "\n",
        "# Loading the Live Telemetry Route Data\n",
        "\n",
        "The examples provided utilise data that has already been downloaded.\n",
        "\n",
        "## Spatial Utilities\n",
        "\n",
        "The GPS data is provided as a set of latitude and longitude co-ordinates. For various forms of analysis, such as calculating and comparing distance in meters, we need to map from the latitude/longitude co-ordinate system to a projection such as UTM (Universal transverse Mercator).\n",
        "\n",
        "The following function identifies the correct UTM region for managing the conversion."
      ]
    },
    {
      "cell_type": "code",
      "metadata": {},
      "source": [
        "library(sf)\n",
        "\n",
        "lonlat2UTM_hemisphere <- function(lonlat) {\n",
        "    ifelse(lonlat[1] > 0, \"north\", \"south\")\n",
        "}\n",
        "\n",
        "lonlat2UTMzone = function(lonlat) {\n",
        "  utm = (floor((lonlat[1] + 180) / 6) %% 60) + 1\n",
        "  if(lonlat[2] > 0) {\n",
        "    utm + 32600\n",
        "  } else{\n",
        "    utm + 32700\n",
        "  }\n",
        "}"
      ],
      "execution_count": null,
      "outputs": []
    },
    {
      "cell_type": "markdown",
      "metadata": {},
      "source": [
        "Create a simple latitude/longitude CRS (co-ordinate reference system) string to specify the CRS for use with simple lat/long data:"
      ]
    },
    {
      "cell_type": "code",
      "metadata": {},
      "source": [
        "latlon_crs = 4326"
      ],
      "execution_count": null,
      "outputs": []
    },
    {
      "cell_type": "markdown",
      "metadata": {},
      "source": [
        "We can also set the timezone. This might be done explicitly, or from a location co-ordinate using the *R* `lutz` package."
      ]
    },
    {
      "cell_type": "code",
      "metadata": {},
      "source": [
        "timezone = \"Europe/Helsinki\""
      ],
      "execution_count": null,
      "outputs": []
    },
    {
      "cell_type": "markdown",
      "metadata": {},
      "source": [
        "## Loading in the Telemetry Route Data\n",
        "\n",
        "The data is available in the form of a simple CSV data file.\n",
        "\n",
        "The data is presented in a reverse chronological order, but it is more natural for us to present it in chronological (increasing time) order."
      ]
    },
    {
      "cell_type": "code",
      "metadata": {},
      "source": [
        "path = \"../../wrcplus/notebooks/2021_secto_Rally_Finland\"\n",
        "telem_df_min = read.csv(file.path(path, \"df_telemetrydata_SS7_Evans.csv\") )  %>%\n",
        "                  map_df(rev)\n",
        "\n",
        "kable(head(telem_df_min), format = \"html\") %>%\n",
        "  kable_styling() %>%\n",
        "  kableExtra::scroll_box(width = \"100%\")"
      ],
      "execution_count": null,
      "outputs": []
    },
    {
      "cell_type": "markdown",
      "metadata": {},
      "source": [
        "We note quite a few null columns in there, so let's clean those out of the dataframe too:"
      ]
    },
    {
      "cell_type": "code",
      "metadata": {},
      "source": [
        "telem_df_min = telem_df_min %>%\n",
        "                  select(-c(accx, accy, altitude, brk, driverid,\n",
        "                            gear, rpm, throttle, track)) %>%\n",
        "                  select(-c(X_rally_stageid, X_carentryid, X_telemetryID))\n",
        "\n",
        "kable(head(telem_df_min), format = \"html\") %>%\n",
        "  kable_styling() %>%\n",
        "  kableExtra::scroll_box(width = \"100%\")"
      ],
      "execution_count": null,
      "outputs": []
    },
    {
      "cell_type": "markdown",
      "metadata": {},
      "source": [
        "## Preparing the Telemetry Route Data\n",
        "\n",
        "We can perform a small amount of cleaning on the data to remove any rows where there are missing latitude or longitude values before before generating a spatial features data object with a column containing the geometry information with the lat/long co-ordinate reference system (CRS) specified.\n",
        "\n",
        "To better manage the timing components, we can cast the universal time stamp (in milliseconds) to a datetime stamp, ensuring we also set the correct time zone along the way. A `delta_s` columns is also used to capture the time difference (in seconds) between sample points."
      ]
    },
    {
      "cell_type": "code",
      "metadata": {},
      "source": [
        "telem_df_min = telem_df_min %>%\n",
        "                  drop_na(lon, lat) %>%\n",
        "                  st_as_sf(coords = c(\"lon\",\"lat\")) %>%\n",
        "                  st_set_crs(latlon_crs)\n",
        "\n",
        "\n",
        "# Automatically set the timezone\n",
        "library(lutz)\n",
        "timezone_lookup = tz_lookup(telem_df_min[1]$geometry[1],\n",
        "                            method = \"accurate\") #by default: fast\n",
        "\n",
        "telem_df_min = telem_df_min %>%\n",
        "                  # Set datetime and delta_s\n",
        "                  mutate(delta_s=cumsum(c(0,diff(utx)))/1000)%>%\n",
        "                  mutate(utc = as.POSIXct(utx/1000,\n",
        "                                          origin = \"1970-01-01\",\n",
        "                                          tz = timezone)) \n",
        "\n",
        "kable(head(telem_df_min), format = \"html\") %>%\n",
        "  kable_styling() %>%\n",
        "  kableExtra::scroll_box(width = \"100%\")"
      ],
      "execution_count": null,
      "outputs": []
    },
    {
      "cell_type": "markdown",
      "metadata": {},
      "source": [
        "For convenience, let's also generate a UTM projection of this spatial features dataframe:"
      ]
    },
    {
      "cell_type": "code",
      "metadata": {},
      "source": [
        "# Generate a UTM projection of the route telemetry\n",
        "telem_df_min_utm = telem_df_min %>%\n",
        "                      st_transform(crs = st_crs(utm_proj4_string))"
      ],
      "execution_count": null,
      "outputs": []
    },
    {
      "cell_type": "markdown",
      "metadata": {},
      "source": [
        "## Visual Preview of the Telemetry Route Data\n",
        "\n",
        "We can preview the route on an interactive map using the `leaflet` package, casting the route data to a set of paired co-ordinates:"
      ]
    },
    {
      "cell_type": "code",
      "metadata": {},
      "source": [
        "library(leaflet)\n",
        "\n",
        "tmp_route <- telem_df_min %>% st_coordinates() \n",
        "\n",
        "leaflet(tmp_route) %>% \n",
        "  addProviderTiles(\"OpenTopoMap\", group = \"OSM\") %>% \n",
        "  addPolylines(color = \"red\", weight = 5)"
      ],
      "execution_count": null,
      "outputs": []
    },
    {
      "cell_type": "markdown",
      "metadata": {},
      "source": [
        "The \"live\" telemetry includes the road section data. To access the data for just the stage we need to filter it somehow. There are two ways we might do this:\n",
        "\n",
        "- based on time: if we know the stage start time for the driver, and their stage time, we can filter the data based on timestamps;\n",
        "- based on location: if we have route data for the stage, we can create a buffered area around the stage route, and then filter telemetry data based on points that lay inside that buffered area.\n",
        "\n",
        "# Using Official Route Data\n",
        "\n",
        "To make most effective use of the telemetry data, we want to be able to identify the stage section data as well as the road section data. We can use the official stage route to filter data points from a set of location data that includes road section locations to just those points that lay along a route."
      ]
    },
    {
      "cell_type": "code",
      "metadata": {},
      "source": [
        "# Path to the route telemetry data\n",
        "path = \"../../wrcplus/notebooks/2021_secto_Rally_Finland\"\n",
        "\n",
        "geojson_filename = \"data/finland_2021.geojson\""
      ],
      "execution_count": null,
      "outputs": []
    },
    {
      "cell_type": "markdown",
      "metadata": {},
      "source": [
        "*For more information on analysing rally stage routes, see [__Visualising WRC Rally Stages With rayshader and R__](https://rallydatajunkie.com/visualising-rally-stages).*\n",
        "\n",
        "## Loading Official Stage Route Data\n",
        "\n",
        "Let's load in some route data:"
      ]
    },
    {
      "cell_type": "code",
      "metadata": {},
      "source": [
        "geojson_sf = sf::st_read(geojson_filename)"
      ],
      "execution_count": null,
      "outputs": []
    },
    {
      "cell_type": "markdown",
      "metadata": {},
      "source": [
        "Let's also clean the data a little by removing the reference to the Z dimension, making a note of original co-ordinate reference scheme, and generating references to the route in both latlong and UTM forms:"
      ]
    },
    {
      "cell_type": "code",
      "metadata": {},
      "source": [
        "stage_route  = geojson_sf[7,]  %>% st_zm()\n",
        "\n",
        "# Grab a copy of the original projection\n",
        "original_crs = st_crs(stage_route)\n",
        "\n",
        "# Find the UTM zone for a sample a point on the route\n",
        "crs_zone = lonlat2UTMzone(c(st_coordinates(stage_route)[1,1],\n",
        "                            st_coordinates(stage_route)[1,2]))\n",
        "\n",
        "# Create the projection string\n",
        "utm_proj4_string = st_crs(crs_zone)$proj4string\n",
        "#\"+proj=utm +zone=32 +datum=WGS84 +units=m +no_defs\"\n",
        "# units in meters e.g. https://epsg.io/32632\n",
        "\n",
        "# Transform the route projection\n",
        "stage_route_utm = st_transform(stage_route,\n",
        "                               crs = st_crs(utm_proj4_string))"
      ],
      "execution_count": null,
      "outputs": []
    },
    {
      "cell_type": "markdown",
      "metadata": {},
      "source": [
        "## Comparing Stage Route Telemetry and the Stage Route\n",
        "\n",
        "Let's plot the telemetry data on a map, and then compare it to the stage route data:"
      ]
    },
    {
      "cell_type": "code",
      "metadata": {},
      "source": [
        "leaflet() %>% \n",
        "  addProviderTiles(\"OpenTopoMap\", group = \"OSM\") %>% \n",
        "  addPolylines(data=tmp_route, color = \"red\", weight = 5) %>%\n",
        "  addPolylines(data=stage_route, color = \"black\", weight = 3)"
      ],
      "execution_count": null,
      "outputs": []
    },
    {
      "cell_type": "markdown",
      "metadata": {},
      "source": [
        "If you look closely at the map, you will see that the stage route trace (in black) closely follows the road indicated on the map, but the lower resolution route telemetry data (the red line) only falls at occasional points along it; a straight line connects the sample points.\n",
        "\n",
        "# Telemetry Data Along a Stage\n",
        "\n",
        "We can filter the telemetry data to just the data points that lay on the route by creating a buffered area around the route and then \"cropping\" the telemetry route data to just the data that fulls within that region.\n",
        "\n",
        "Let's create a buffered area 100m wide around the route:"
      ]
    },
    {
      "cell_type": "code",
      "metadata": {},
      "source": [
        "# Generate buffered routes in UTM and longlat projections\n",
        "buffer_margin_100m = units::set_units(100, m)\n",
        "\n",
        "buffered_route_utm = st_buffer(stage_route_utm, buffer_margin_100m)\n",
        "buffered_route = st_transform(buffered_route_utm, original_crs)\n",
        "\n",
        "leaflet(buffered_route) %>% \n",
        "  addProviderTiles(\"OpenTopoMap\", group = \"OSM\") %>% \n",
        "  addPolylines(color = \"red\", weight = 2)"
      ],
      "execution_count": null,
      "outputs": []
    },
    {
      "cell_type": "markdown",
      "metadata": {},
      "source": [
        "To simplify distance calculations, where we are likely to want to work in units of meters, generate a UTM projection of the route telemetry data:"
      ]
    },
    {
      "cell_type": "code",
      "metadata": {},
      "source": [
        "# Also generate a UTM projection of the minimal route telemetry\n",
        "route_telem_utm = st_transform(route_telem,\n",
        "                               crs = st_crs(utm_proj4_string))"
      ],
      "execution_count": null,
      "outputs": []
    },
    {
      "cell_type": "markdown",
      "metadata": {},
      "source": [
        "Let's see how it looks:"
      ]
    },
    {
      "cell_type": "code",
      "metadata": {},
      "source": [
        "kable(head(route_telem), format = \"html\") %>%\n",
        "  kable_styling() %>%\n",
        "  kableExtra::scroll_box(width = \"100%\")"
      ],
      "execution_count": null,
      "outputs": []
    },
    {
      "cell_type": "markdown",
      "metadata": {},
      "source": [
        "We can now find the  intersection of the buffered stage route and the original telemetry spatial features dataframe. The `st_intersects()` function prefers a UTM projection, so let's use that:"
      ]
    },
    {
      "cell_type": "code",
      "metadata": {},
      "source": [
        "#Find the intersecting points\n",
        "route_telem_intersect = st_intersects(buffered_route_utm, telem_df_min_utm)\n",
        "\n",
        "# And then filter on those points\n",
        "# Also nullify the Z dimension\n",
        "route_telem = telem_df_min[route_telem_intersect[[1]],]  %>% st_zm()"
      ],
      "execution_count": null,
      "outputs": []
    },
    {
      "cell_type": "markdown",
      "metadata": {},
      "source": [
        "Let's preview the first few rows of that data:"
      ]
    },
    {
      "cell_type": "code",
      "metadata": {},
      "source": [
        "kable(head(route_telem), format = \"html\") %>%\n",
        "  kable_styling() %>%\n",
        "  kableExtra::scroll_box(width = \"100%\")"
      ],
      "execution_count": null,
      "outputs": []
    },
    {
      "cell_type": "markdown",
      "metadata": {},
      "source": [
        "If we assume that the `kms` column is the distance into stage, we see that it appears that we are missing data from the start of the run? The datetime would also suggest that we may be missing some samples from the start of the run, because start times typically start precisely on the minute.\n",
        "\n",
        "But at least we have something! If we now plot the resulting telemetry data points, we see have limited our selection to just the sample points that fall within the buffered stage route area:"
      ]
    },
    {
      "cell_type": "code",
      "metadata": {},
      "source": [
        "leaflet(route_telem )  %>% \n",
        "  addProviderTiles(\"OpenTopoMap\", group = \"OSM\") %>% \n",
        "  addCircleMarkers()"
      ],
      "execution_count": null,
      "outputs": []
    },
    {
      "cell_type": "markdown",
      "metadata": {},
      "source": [
        "## Finding Points on the Route Closest to the Telemetry Data Locations\n",
        "\n",
        "Locating telemetry data along a stage us useful, but how we might start to use that to make comparisons between drivers?\n",
        "\n",
        "If we know the time of day when a drive starts a stage, we can find the difference between the telemetry sample time and the start time to get an elapsed duration *into* the stage. But even so: how do we know *where* in a stage a car is?\n",
        "\n",
        "When split times are recorded, we know exactly where the car was at that point in time: it was at the split point location. So how might we determine where a car is on a route that acts as a fair basis for comparison.\n",
        "\n",
        "One way is to create notional split points at known distances along the actual route. The `rgeos::gProject()` function finds the points along the stage route that are nearest to the telemetry route points. Specifically, the function returns the distance along the route of the point on the route nearest to a provided location.\n",
        "\n",
        "This means that we can provide a set of points, such as a telemetry sample location points, and get the distance of a point along the route that is closest to the sample point location.\n",
        "\n",
        "One thing to note about the `rgeos` package is that it works with `Spatial` (`sp`) objects rather than *spatial features* (`sf`) objects, we so need to manage a conversion from one object type to the other in order to call the `:gProject()` function.\n",
        "\n",
        "If we also use UTM co-ordinates, the distance along the route is given in meters:"
      ]
    },
    {
      "cell_type": "code",
      "metadata": {},
      "source": [
        "min_pois_utm = st_sfc(st_multipoint(st_coordinates(route_telem_utm)),\n",
        "                      crs=st_crs(route_telem_utm))\n",
        "\n",
        "# Handle the conversion from sf to sp objects\n",
        "# Generate a list of points from a multipoint\n",
        "# Via: https://github.com/r-spatial/sf/issues/114\n",
        "min_pois_points_utm = st_cast(x = min_pois_utm, to = \"POINT\")\n",
        "min_pois_points_utm_sp = as(min_pois_points_utm, 'Spatial')\n",
        "\n",
        "# Find the distance along the route of the point on the route\n",
        "# nearest to each telemetry sample\n",
        "dist_points = rgeos::gProject(as(stage_route_utm, \"Spatial\"),\n",
        "                min_pois_points_utm_sp, normalized = FALSE)\n",
        "\n",
        "zz = as.data.frame(dist_points)\n",
        "\n",
        "# Add the distance into stage for each point\n",
        "route_telem_utm$dist =  dist_points"
      ],
      "execution_count": null,
      "outputs": []
    },
    {
      "cell_type": "markdown",
      "metadata": {},
      "source": [
        "How does the data look now?"
      ]
    },
    {
      "cell_type": "code",
      "metadata": {},
      "source": [
        "kable(head(route_telem_utm), format = \"html\") %>%\n",
        "  kable_styling() %>%\n",
        "  kableExtra::scroll_box(width = \"100%\")"
      ],
      "execution_count": null,
      "outputs": []
    },
    {
      "cell_type": "markdown",
      "metadata": {},
      "source": [
        "We might thinks of each of these points as notional split points at particular distances along the route.\n",
        "\n",
        "it is also worth noting that the `rgeos::gInterpolate()` function complements `rgeos::gProject()` by providing a function that can also return a location a specified distance along a line:"
      ]
    },
    {
      "cell_type": "code",
      "metadata": {},
      "source": [
        "sample_point_sp_utm = rgeos::gInterpolate(as(stage_route_utm, \"Spatial\"),\n",
        "                                          5000, # Distance along route in meters\n",
        "                                          normalized = FALSE)\n",
        "\n",
        "# We can convert back from an sp to an sf object:\n",
        "sample_point_sf_utm = st_as_sf(sample_point_sp_utm)\n",
        "\n",
        "# And also convert back to a latlong reference system\n",
        "sample_point_sf = sample_point_sf_utm %>% st_transform(crs = st_crs(latlon_crs))"
      ],
      "execution_count": null,
      "outputs": []
    },
    {
      "cell_type": "markdown",
      "metadata": {},
      "source": [
        "Let's see that point, 5km along the route:"
      ]
    },
    {
      "cell_type": "code",
      "metadata": {},
      "source": [
        "leaflet() %>% \n",
        "  addProviderTiles(\"OpenTopoMap\", group = \"OSM\") %>% \n",
        "  addPolylines(data=stage_route, color = \"black\", weight = 3) %>%\n",
        "  addMarkers(data=sample_point_sf)"
      ],
      "execution_count": null,
      "outputs": []
    },
    {
      "cell_type": "markdown",
      "metadata": {},
      "source": [
        "# Plotting Locations a Certain Time Into the Stage\n",
        "\n",
        "In order to calculate the time into stage, we need to set the time series origin somehow. If we have a telemetry data point recorded at the start stage start (location wise) when the light goes green, we can use that time as the time origin. But what if that data is not available, which is highly likely when working with low resolution live location data?\n",
        "\n",
        "## Find the Stage Telemetry Time Series Origin\n",
        "\n",
        "One approach would be to look to the timing and results data for data describing the start time of the stage for the particular data. This time can then be used as the tie origin (with a check to make sure it looks sensible!). But this approach brings with it the overhead of having to lookup that data via the WRC API.\n",
        "\n",
        "We can also set the time from a time passed as a string. For example:"
      ]
    },
    {
      "cell_type": "code",
      "metadata": {},
      "source": [
        "explicit_time_origin = ymd_hms(\"2020-04-01 10:30:13\", tz=timezone)"
      ],
      "execution_count": null,
      "outputs": []
    },
    {
      "cell_type": "markdown",
      "metadata": {},
      "source": [
        "### Estimating the Start Time\n",
        "\n",
        "If we are missing timing data from the start of the run, *and* we assume that the run started exactly on the minute, we can round down the first sample time to get to the next nearest minute using the `lubridate::round_date()` function:"
      ]
    },
    {
      "cell_type": "code",
      "metadata": {},
      "source": [
        "first_time = route_telem_utm[1,]$utc\n",
        "\n",
        "first_time_rounded = round_date(first_time, unit=\"1 minutes\")\n",
        "\n",
        "c(first_time, first_time_rounded)"
      ],
      "execution_count": null,
      "outputs": []
    },
    {
      "cell_type": "markdown",
      "metadata": {},
      "source": [
        "We can then use the rounded first time as a basis for a running stage time estimate by subtracting that time from the sample datetimes:"
      ]
    },
    {
      "cell_type": "code",
      "metadata": {},
      "source": [
        "# Get stage time as a time object...\n",
        "route_telem_utm$roundeddelta_t = route_telem_utm$utc - first_time_rounded\n",
        "# And in seconds\n",
        "route_telem_utm$roundeddelta_s = as.double(route_telem_utm$roundeddelta_t)"
      ],
      "execution_count": null,
      "outputs": []
    },
    {
      "cell_type": "code",
      "metadata": {},
      "source": [
        "kable(head(route_telem_utm), format = \"html\") %>%\n",
        "  kable_styling() %>%\n",
        "  kableExtra::scroll_box(width = \"100%\")"
      ],
      "execution_count": null,
      "outputs": []
    },
    {
      "cell_type": "markdown",
      "metadata": {},
      "source": [
        "### Using a False Origin\n",
        "\n",
        "Another approach to setting the origin is to not set one; or rather, to start the time series with a false origin, such as the first location point. The time into stage (from the false origin) can then be found by using the sample time of the first in-stage telemetry data point as the time origin set at that location."
      ]
    },
    {
      "cell_type": "code",
      "metadata": {},
      "source": [
        "false_origin_time = route_telem_utm$utc[1]\n",
        "false_origin_time"
      ],
      "execution_count": null,
      "outputs": []
    },
    {
      "cell_type": "markdown",
      "metadata": {},
      "source": [
        "And then generate deltas from that:"
      ]
    },
    {
      "cell_type": "code",
      "metadata": {},
      "source": [
        "# Get stage time as a time object...\n",
        "route_telem_utm$falsedelta_t = route_telem_utm$utc - false_origin_time\n",
        "# And in seconds\n",
        "route_telem_utm$falsedelta_s = as.double(route_telem_utm$falsedelta_t)"
      ],
      "execution_count": null,
      "outputs": []
    },
    {
      "cell_type": "code",
      "metadata": {},
      "source": [
        "kable(head(route_telem_utm %>% select(c(utc, roundeddelta_t, roundeddelta_s,\n",
        "                                        falsedelta_t, falsedelta_s))),\n",
        "      format = \"html\") %>%\n",
        "  kable_styling() %>%\n",
        "  kableExtra::scroll_box(width = \"100%\")"
      ],
      "execution_count": null,
      "outputs": []
    },
    {
      "cell_type": "markdown",
      "metadata": {},
      "source": [
        "This approach might also extended for use when comparing two or more drivers, by setting a false origin for each driver, then rebasing against a common origin set at the location origin furthest into the start for the drivers being compared.\n",
        "\n",
        "\n",
        "## Plotting the Stage Telemetry Time Series\n",
        "\n",
        "We can now plot the distance into stage and the stage time (as per the telemetry sample points) relative to each other."
      ]
    },
    {
      "cell_type": "code",
      "metadata": {},
      "source": [
        "ggplot(route_telem_utm) +geom_line(aes(x=dist, y=roundeddelta_s))"
      ],
      "execution_count": null,
      "outputs": []
    },
    {
      "cell_type": "markdown",
      "metadata": {},
      "source": [
        "If we have data for two or more cars, this would start to provide a basis for comparison. For example, we might be able to see the distance along the stage where their times diverge.\n",
        "\n",
        "We might also plot a *distance versus time* graph.\n",
        "\n",
        "# Interpolating Times Along the Route\n",
        "\n",
        "Generating distances along the route, or \"ghost\" split points, gives us some basis for being able to make comparisons between cars. But we are still faced with a very particular problem: it's unlikely that any two cars will generate telemetry sample points at the same location, which is to say, the same distance along the line.\n",
        "\n",
        "In order to compare times at the same location, as we do with official split times, we need to generate some sort of model that lets us interpolate times along the route. This would then allow us compare times, albeit estimated ones, at the same location.\n",
        "\n",
        "*For more accuracy, this could should be done based on a speed model constructed from an analysis of route curvature.*\n",
        "\n",
        "One way of doing this is to generate an estimator function based on the time and distance data in the telemetry data frame."
      ]
    },
    {
      "cell_type": "code",
      "metadata": {},
      "source": [
        "# Estimate the time based on the distance into the route\n",
        "# Add in an origin time at the stage of the stage\n",
        "# If necessary, we could also add a crude acceleration effect\n",
        "# model at the start of the stage\n",
        "time_estimator = approxfun(c(0, route_telem_utm$dist),\n",
        "                           c(0, route_telem_utm$roundeddelta_s))\n",
        "\n",
        "# Estimate the distance based on the time into the route\n",
        "distance_estimator = approxfun(route_telem_utm$roundeddelta_s,\n",
        "                              route_telem_utm$dist)"
      ],
      "execution_count": null,
      "outputs": []
    },
    {
      "cell_type": "markdown",
      "metadata": {},
      "source": [
        "We can then use these estimator functions to estimate times at particular distances along the route, and *vice versa*.\n",
        "\n",
        "For example, let's create notional split points every 500 meters along the route, plotting both the predicted times and the actual times:"
      ]
    },
    {
      "cell_type": "code",
      "metadata": {},
      "source": [
        "# Sample every 500m\n",
        "vals = seq(to=max(route_telem_utm$dist), by=500)\n",
        "\n",
        "ggplot() + \n",
        "  # Predicted line in pink\n",
        "  geom_line(aes(x=vals, y=time_estimator(vals)), size=3, colour='pink') +\n",
        "  # Sampled times in black\n",
        "  geom_point(data=route_telem_utm, aes(x=dist, y=roundeddelta_s),\n",
        "             color='black', size=1)"
      ],
      "execution_count": null,
      "outputs": []
    },
    {
      "cell_type": "markdown",
      "metadata": {},
      "source": [
        "If we have multiple drivers, we can generate an interpolation function for each one. These models can then be used to predict driver times at notional split point locations (for example, every 200 meters or so). In this way, we can try to identify where drivers are gaining or losing time with respect to each other and start to build up stage maps showing how drivers compare with each other along the whole length of the stage.\n"
      ]
    }
  ],
  "metadata": {
    "kernelspec": {
      "name": "ir",
      "language": "R",
      "display_name": "R"
    }
  },
  "nbformat": 4,
  "nbformat_minor": 4
}